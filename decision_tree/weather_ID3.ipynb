{
 "metadata": {
  "language_info": {
   "codemirror_mode": {
    "name": "ipython",
    "version": 3
   },
   "file_extension": ".py",
   "mimetype": "text/x-python",
   "name": "python",
   "nbconvert_exporter": "python",
   "pygments_lexer": "ipython3",
   "version": "3.8.3-final"
  },
  "orig_nbformat": 2,
  "kernelspec": {
   "name": "python3",
   "display_name": "Python 3.8.3 64-bit ('base': conda)",
   "metadata": {
    "interpreter": {
     "hash": "96eb50e1d44aed467dc8f759cb08c32fbfa9babcf79c554e2d0e5feb04653a10"
    }
   }
  }
 },
 "nbformat": 4,
 "nbformat_minor": 2,
 "cells": [
  {
   "cell_type": "code",
   "execution_count": 1,
   "metadata": {},
   "outputs": [],
   "source": [
    "import numpy as np\n",
    "import pandas as pd\n",
    "from numpy import log2 as log"
   ]
  },
  {
   "cell_type": "code",
   "execution_count": 2,
   "metadata": {},
   "outputs": [],
   "source": [
    "# WORKFLOW OF ID3\n",
    "\n",
    "# 1.compute the entropy for data-set\n",
    "# 2.for every attribute/feature:\n",
    "#        1.calculate entropy for all categorical values\n",
    "#        2.take average information entropy for the current attribute\n",
    "#        3.calculate gain for the current attribute\n",
    "# 3. pick the highest gain attribute.\n",
    "# 4. Repeat until we get the tree we desired"
   ]
  },
  {
   "cell_type": "code",
   "execution_count": null,
   "metadata": {},
   "outputs": [],
   "source": []
  },
  {
   "cell_type": "code",
   "execution_count": 3,
   "metadata": {},
   "outputs": [],
   "source": [
    "#------------------Example No.2------------------#"
   ]
  },
  {
   "cell_type": "code",
   "execution_count": 4,
   "metadata": {},
   "outputs": [],
   "source": [
    "# 3 weather options: Sunny, Cloudy, Rainy\n",
    "weat  = ['sun', 'sun', 'cloud', 'rain', 'rain', 'rain', 'cloud', \n",
    "         'sun', 'sun', 'rain', 'sun', 'cloud', 'cloud', 'rain']\n",
    "\n",
    "# 3 temperature options: Hot, Medium, Cold\n",
    "temp  = ['hot', 'hot', 'hot', 'med', 'cold', 'cold', 'cold', \n",
    "         'med', 'cold', 'med', 'med', 'med', 'hot', 'med']\n",
    "\n",
    "# 2 humidity options: high, normal\n",
    "hum   = ['high', 'high', 'high', 'high', 'norm', 'norm', 'norm', \n",
    "         'high', 'norm', 'norm', 'norm', 'high', 'norm', 'high']\n",
    "\n",
    "# 2 wind parameters: strong, weak\n",
    "wind  = ['weak', 'strong', 'weak', 'weak', 'weak', 'strong', 'strong', \n",
    "         'weak', 'weak', 'weak', 'strong', 'strong', 'weak', 'strong']\n",
    "\n",
    "# 2 targets: activity is still on (active), canceled\n",
    "activ = ['cancel', 'cancel', 'active', 'active', 'active', 'cancel', 'active', \n",
    "         'cancel', 'active', 'active', 'active', 'active', 'active', 'cancel']"
   ]
  },
  {
   "cell_type": "code",
   "execution_count": 5,
   "metadata": {},
   "outputs": [
    {
     "output_type": "execute_result",
     "data": {
      "text/plain": [
       "   weather temperature humidity    wind activity\n",
       "0      sun         hot     high    weak   cancel\n",
       "1      sun         hot     high  strong   cancel\n",
       "2    cloud         hot     high    weak   active\n",
       "3     rain         med     high    weak   active\n",
       "4     rain        cold     norm    weak   active\n",
       "5     rain        cold     norm  strong   cancel\n",
       "6    cloud        cold     norm  strong   active\n",
       "7      sun         med     high    weak   cancel\n",
       "8      sun        cold     norm    weak   active\n",
       "9     rain         med     norm    weak   active\n",
       "10     sun         med     norm  strong   active\n",
       "11   cloud         med     high  strong   active\n",
       "12   cloud         hot     norm    weak   active\n",
       "13    rain         med     high  strong   cancel"
      ],
      "text/html": "<div>\n<style scoped>\n    .dataframe tbody tr th:only-of-type {\n        vertical-align: middle;\n    }\n\n    .dataframe tbody tr th {\n        vertical-align: top;\n    }\n\n    .dataframe thead th {\n        text-align: right;\n    }\n</style>\n<table border=\"1\" class=\"dataframe\">\n  <thead>\n    <tr style=\"text-align: right;\">\n      <th></th>\n      <th>weather</th>\n      <th>temperature</th>\n      <th>humidity</th>\n      <th>wind</th>\n      <th>activity</th>\n    </tr>\n  </thead>\n  <tbody>\n    <tr>\n      <th>0</th>\n      <td>sun</td>\n      <td>hot</td>\n      <td>high</td>\n      <td>weak</td>\n      <td>cancel</td>\n    </tr>\n    <tr>\n      <th>1</th>\n      <td>sun</td>\n      <td>hot</td>\n      <td>high</td>\n      <td>strong</td>\n      <td>cancel</td>\n    </tr>\n    <tr>\n      <th>2</th>\n      <td>cloud</td>\n      <td>hot</td>\n      <td>high</td>\n      <td>weak</td>\n      <td>active</td>\n    </tr>\n    <tr>\n      <th>3</th>\n      <td>rain</td>\n      <td>med</td>\n      <td>high</td>\n      <td>weak</td>\n      <td>active</td>\n    </tr>\n    <tr>\n      <th>4</th>\n      <td>rain</td>\n      <td>cold</td>\n      <td>norm</td>\n      <td>weak</td>\n      <td>active</td>\n    </tr>\n    <tr>\n      <th>5</th>\n      <td>rain</td>\n      <td>cold</td>\n      <td>norm</td>\n      <td>strong</td>\n      <td>cancel</td>\n    </tr>\n    <tr>\n      <th>6</th>\n      <td>cloud</td>\n      <td>cold</td>\n      <td>norm</td>\n      <td>strong</td>\n      <td>active</td>\n    </tr>\n    <tr>\n      <th>7</th>\n      <td>sun</td>\n      <td>med</td>\n      <td>high</td>\n      <td>weak</td>\n      <td>cancel</td>\n    </tr>\n    <tr>\n      <th>8</th>\n      <td>sun</td>\n      <td>cold</td>\n      <td>norm</td>\n      <td>weak</td>\n      <td>active</td>\n    </tr>\n    <tr>\n      <th>9</th>\n      <td>rain</td>\n      <td>med</td>\n      <td>norm</td>\n      <td>weak</td>\n      <td>active</td>\n    </tr>\n    <tr>\n      <th>10</th>\n      <td>sun</td>\n      <td>med</td>\n      <td>norm</td>\n      <td>strong</td>\n      <td>active</td>\n    </tr>\n    <tr>\n      <th>11</th>\n      <td>cloud</td>\n      <td>med</td>\n      <td>high</td>\n      <td>strong</td>\n      <td>active</td>\n    </tr>\n    <tr>\n      <th>12</th>\n      <td>cloud</td>\n      <td>hot</td>\n      <td>norm</td>\n      <td>weak</td>\n      <td>active</td>\n    </tr>\n    <tr>\n      <th>13</th>\n      <td>rain</td>\n      <td>med</td>\n      <td>high</td>\n      <td>strong</td>\n      <td>cancel</td>\n    </tr>\n  </tbody>\n</table>\n</div>"
     },
     "metadata": {},
     "execution_count": 5
    }
   ],
   "source": [
    "# merging all attributes into one pandas dataframe\n",
    "dataset = {'weather': weat, 'temperature': temp, 'humidity': hum, 'wind': wind, 'activity': activ}\n",
    "df = pd.DataFrame(dataset, columns=['weather', 'temperature', 'humidity', 'wind', 'activity'])\n",
    "df"
   ]
  },
  {
   "cell_type": "code",
   "execution_count": null,
   "metadata": {},
   "outputs": [],
   "source": []
  },
  {
   "cell_type": "code",
   "execution_count": 6,
   "metadata": {},
   "outputs": [],
   "source": [
    "#------------------Compute Entropy Of Whole Dataset ------------------#"
   ]
  },
  {
   "cell_type": "code",
   "execution_count": 7,
   "metadata": {},
   "outputs": [],
   "source": [
    "def Entropy(df):\n",
    "    entropy = 0\n",
    "    values = df[Class].unique() #cancel, active\n",
    "\n",
    "    for v in values:\n",
    "        fraction = df[Class].value_counts()[v]/len(df[Class])  # 9/14, 5/14\n",
    "        entropy += -fraction*np.log2(fraction) # -( 9/14log2(9/14) + 5/14(log2(5/14))\n",
    "    return entropy\n",
    "\n",
    "# entropy = Entropy(df)\n",
    "# print('Entropy for the whole dataset is: {0: .4f}'.format(entropy))"
   ]
  },
  {
   "cell_type": "code",
   "execution_count": null,
   "metadata": {},
   "outputs": [],
   "source": []
  },
  {
   "cell_type": "code",
   "execution_count": 8,
   "metadata": {},
   "outputs": [],
   "source": [
    "#------------------Compute Entropy Of Attributes------------------#"
   ]
  },
  {
   "cell_type": "code",
   "execution_count": 9,
   "metadata": {},
   "outputs": [],
   "source": [
    "def Entropy_Att(df, attribute):\n",
    "    targets = df[Class].unique()       #cancel, active\n",
    "    variables = df[attribute].unique() #unique targets of an attribute\n",
    "\n",
    "    entropy_attribute = 0\n",
    "\n",
    "    for i in variables:\n",
    "        entropy_each_feature = 0\n",
    "        for j in targets:\n",
    "            #set up denominator and numerator, and calculate fraction\n",
    "            num = len(df[attribute][df[attribute]==i][df[Class] == j])\n",
    "            den = len(df[attribute][df[attribute]==i])\n",
    "            fraction = num/(den+eps)\n",
    "            #pluck fraction into the formula and calculate entropy for each feature\n",
    "            entropy_each_feature += -fraction*log(fraction+eps)\n",
    "        #calculate weighted sum\n",
    "        fraction2 = den/len(df)\n",
    "        entropy_attribute += -fraction2*entropy_each_feature   #Sums up all the entropy ETaste\n",
    "\n",
    "    return(abs(entropy_attribute))\n",
    "\n",
    "# a_entropy = {i: Entropy_Att(df, i) for i in df.columns[:-1]} #calcuate entropy for all columns except the last one\n",
    "# print('Entropies for all the columns are:')\n",
    "# a_entropy"
   ]
  },
  {
   "cell_type": "code",
   "execution_count": null,
   "metadata": {},
   "outputs": [],
   "source": []
  },
  {
   "cell_type": "code",
   "execution_count": 10,
   "metadata": {},
   "outputs": [],
   "source": [
    "#------------------Compute Infromation Gain------------------#"
   ]
  },
  {
   "cell_type": "code",
   "execution_count": 11,
   "metadata": {},
   "outputs": [],
   "source": [
    "def info_gain_win(df, show_stat):\n",
    "    Entropy_att = []\n",
    "    IG = [] #information gain\n",
    "    count = 0\n",
    "\n",
    "    #compute infromation gain for all attributes\n",
    "    for i in df.columns[:-1]:\n",
    "        IG.append(Entropy(df) - Entropy_Att(df, i))\n",
    "\n",
    "    IG_max = df.columns[:-1][np.argmax(IG)]\n",
    "\n",
    "    if show_stat == True:\n",
    "        print('#-------------{}-------------#'.format(IG_max.upper()))\n",
    "        for i in df.columns[:-1]:\n",
    "            print(\"{0}\\n info ={1: .4f}, Info Gain ={2: .4f}\\n\".format(i, Entropy_Att(df, i), IG[count]))\n",
    "            count += 1\n",
    "\n",
    "    #return an attribute with largest IG\n",
    "    return IG_max\n",
    "\n",
    "# info_gain_win(df, show_stat=True)"
   ]
  },
  {
   "cell_type": "code",
   "execution_count": null,
   "metadata": {},
   "outputs": [],
   "source": []
  },
  {
   "cell_type": "code",
   "execution_count": 12,
   "metadata": {},
   "outputs": [],
   "source": [
    "#------------------Output Decision tree as Dictionary------------------#"
   ]
  },
  {
   "cell_type": "code",
   "execution_count": 13,
   "metadata": {},
   "outputs": [],
   "source": [
    "# create subtable for branching\n",
    "def get_subtable(df, node, value):\n",
    "  return df[df[node] == value].reset_index(drop=True)\n",
    "\n",
    "def buildTree(df, show_stat, tree=None):  \n",
    "    #attribute with highest infromation gain\n",
    "    node = info_gain_win(df, show_stat)\n",
    "    #unique targets of the attribute\n",
    "    att_targs = np.unique(df[node])\n",
    "    \n",
    "    #create an empty dictionary to create tree    \n",
    "    if tree is None:                    \n",
    "        tree={}\n",
    "        tree[node] = {}\n",
    "    \n",
    "    #fill the tree with attributes recursively\n",
    "    for value in att_targs:\n",
    "        \n",
    "        subtable = get_subtable(df, node, value)\n",
    "        clValue, counts = np.unique(subtable[Class], return_counts=True)                        \n",
    "        \n",
    "        if len(counts) == 1:#checking purity of subset\n",
    "            tree[node][value] = clValue[0] #if pure, set give a leaf                                                    \n",
    "        else:        \n",
    "            tree[node][value] = buildTree(subtable, show_stat) #if not, keep splitting\n",
    "                   \n",
    "    return tree"
   ]
  },
  {
   "cell_type": "code",
   "execution_count": 14,
   "metadata": {},
   "outputs": [
    {
     "output_type": "stream",
     "name": "stdout",
     "text": [
      "#-------------WEATHER-------------#\nweather\n info = 0.6935, Info Gain = 0.2467\n\ntemperature\n info = 0.9111, Info Gain = 0.0292\n\nhumidity\n info = 0.7885, Info Gain = 0.1518\n\nwind\n info = 0.8922, Info Gain = 0.0481\n\n#-------------WIND-------------#\nweather\n info = 0.9710, Info Gain = 0.0000\n\ntemperature\n info = 0.9510, Info Gain = 0.0200\n\nhumidity\n info = 0.9510, Info Gain = 0.0200\n\nwind\n info = 0.0000, Info Gain = 0.9710\n\n#-------------HUMIDITY-------------#\nweather\n info = 0.9710, Info Gain = 0.0000\n\ntemperature\n info = 0.4000, Info Gain = 0.5710\n\nhumidity\n info = 0.0000, Info Gain = 0.9710\n\nwind\n info = 0.9510, Info Gain = 0.0200\n\n{'weather': {'cloud': 'active',\n             'rain': {'wind': {'strong': 'cancel', 'weak': 'active'}},\n             'sun': {'humidity': {'high': 'cancel', 'norm': 'active'}}}}\n"
     ]
    }
   ],
   "source": [
    "# to avoid 0 in the denominator\n",
    "eps = np.finfo(float).eps\n",
    "\n",
    "# define global variables\n",
    "global Class\n",
    "Class = df.columns[-1]\n",
    "\n",
    "t = buildTree(df, show_stat=True)\n",
    "\n",
    "import pprint\n",
    "#print in a pretty way\n",
    "pprint.pprint(t)"
   ]
  },
  {
   "cell_type": "code",
   "execution_count": null,
   "metadata": {},
   "outputs": [],
   "source": []
  },
  {
   "cell_type": "code",
   "execution_count": 15,
   "metadata": {},
   "outputs": [],
   "source": [
    "#------------------Example No.2------------------#"
   ]
  },
  {
   "cell_type": "code",
   "execution_count": 16,
   "metadata": {},
   "outputs": [],
   "source": [
    "#case No.2\n",
    "#is a person office worker\n",
    "A1 = ['no', 'no', 'no', 'no', 'yes', 'yes', 'yes', \n",
    "      'no', 'yes', 'yes', 'yes', 'no', 'yes', 'no']\n",
    "\n",
    "#age\n",
    "A2 = ['<=40', '<=40', '41~50', '>50', '>50', '>50', '41~50', \n",
    "      '<=40', '<=40', '>50', '<=40', '41~50', '41~50', '>50']\n",
    "\n",
    "#income\n",
    "A3 = ['high', 'high', 'high', 'mid', 'low', 'low', 'low',\n",
    "      'mid', 'low', 'mid', 'mid', 'mid', 'high', 'mid']\n",
    "\n",
    "#credit history\n",
    "A4 = ['ok', 'good', 'ok', 'ok', 'ok', 'good', 'good', \n",
    "      'ok', 'ok', 'ok', 'good', 'good', 'ok', 'good']\n",
    "\n",
    "#insurance type\n",
    "C = ['c2', 'c2', 'c1', 'c1', 'c1', 'c2', 'c1', \n",
    "     'c2', 'c1', 'c1', 'c1', 'c1', 'c1', 'c2']"
   ]
  },
  {
   "cell_type": "code",
   "execution_count": 17,
   "metadata": {},
   "outputs": [
    {
     "output_type": "execute_result",
     "data": {
      "text/plain": [
       "   Office_worker    age income credit insurance\n",
       "0             no   <=40   high     ok        c2\n",
       "1             no   <=40   high   good        c2\n",
       "2             no  41~50   high     ok        c1\n",
       "3             no    >50    mid     ok        c1\n",
       "4            yes    >50    low     ok        c1\n",
       "5            yes    >50    low   good        c2\n",
       "6            yes  41~50    low   good        c1\n",
       "7             no   <=40    mid     ok        c2\n",
       "8            yes   <=40    low     ok        c1\n",
       "9            yes    >50    mid     ok        c1\n",
       "10           yes   <=40    mid   good        c1\n",
       "11            no  41~50    mid   good        c1\n",
       "12           yes  41~50   high     ok        c1\n",
       "13            no    >50    mid   good        c2"
      ],
      "text/html": "<div>\n<style scoped>\n    .dataframe tbody tr th:only-of-type {\n        vertical-align: middle;\n    }\n\n    .dataframe tbody tr th {\n        vertical-align: top;\n    }\n\n    .dataframe thead th {\n        text-align: right;\n    }\n</style>\n<table border=\"1\" class=\"dataframe\">\n  <thead>\n    <tr style=\"text-align: right;\">\n      <th></th>\n      <th>Office_worker</th>\n      <th>age</th>\n      <th>income</th>\n      <th>credit</th>\n      <th>insurance</th>\n    </tr>\n  </thead>\n  <tbody>\n    <tr>\n      <th>0</th>\n      <td>no</td>\n      <td>&lt;=40</td>\n      <td>high</td>\n      <td>ok</td>\n      <td>c2</td>\n    </tr>\n    <tr>\n      <th>1</th>\n      <td>no</td>\n      <td>&lt;=40</td>\n      <td>high</td>\n      <td>good</td>\n      <td>c2</td>\n    </tr>\n    <tr>\n      <th>2</th>\n      <td>no</td>\n      <td>41~50</td>\n      <td>high</td>\n      <td>ok</td>\n      <td>c1</td>\n    </tr>\n    <tr>\n      <th>3</th>\n      <td>no</td>\n      <td>&gt;50</td>\n      <td>mid</td>\n      <td>ok</td>\n      <td>c1</td>\n    </tr>\n    <tr>\n      <th>4</th>\n      <td>yes</td>\n      <td>&gt;50</td>\n      <td>low</td>\n      <td>ok</td>\n      <td>c1</td>\n    </tr>\n    <tr>\n      <th>5</th>\n      <td>yes</td>\n      <td>&gt;50</td>\n      <td>low</td>\n      <td>good</td>\n      <td>c2</td>\n    </tr>\n    <tr>\n      <th>6</th>\n      <td>yes</td>\n      <td>41~50</td>\n      <td>low</td>\n      <td>good</td>\n      <td>c1</td>\n    </tr>\n    <tr>\n      <th>7</th>\n      <td>no</td>\n      <td>&lt;=40</td>\n      <td>mid</td>\n      <td>ok</td>\n      <td>c2</td>\n    </tr>\n    <tr>\n      <th>8</th>\n      <td>yes</td>\n      <td>&lt;=40</td>\n      <td>low</td>\n      <td>ok</td>\n      <td>c1</td>\n    </tr>\n    <tr>\n      <th>9</th>\n      <td>yes</td>\n      <td>&gt;50</td>\n      <td>mid</td>\n      <td>ok</td>\n      <td>c1</td>\n    </tr>\n    <tr>\n      <th>10</th>\n      <td>yes</td>\n      <td>&lt;=40</td>\n      <td>mid</td>\n      <td>good</td>\n      <td>c1</td>\n    </tr>\n    <tr>\n      <th>11</th>\n      <td>no</td>\n      <td>41~50</td>\n      <td>mid</td>\n      <td>good</td>\n      <td>c1</td>\n    </tr>\n    <tr>\n      <th>12</th>\n      <td>yes</td>\n      <td>41~50</td>\n      <td>high</td>\n      <td>ok</td>\n      <td>c1</td>\n    </tr>\n    <tr>\n      <th>13</th>\n      <td>no</td>\n      <td>&gt;50</td>\n      <td>mid</td>\n      <td>good</td>\n      <td>c2</td>\n    </tr>\n  </tbody>\n</table>\n</div>"
     },
     "metadata": {},
     "execution_count": 17
    }
   ],
   "source": [
    "# merging all attributes into one pandas dataframe\n",
    "dataset2 = {'Office_worker': A1, 'age': A2, 'income': A3, 'credit': A4, 'insurance': C}\n",
    "df2 = pd.DataFrame(dataset2, columns=['Office_worker', 'age', 'income', 'credit', 'insurance'])\n",
    "df2"
   ]
  },
  {
   "cell_type": "code",
   "execution_count": null,
   "metadata": {},
   "outputs": [],
   "source": []
  },
  {
   "cell_type": "code",
   "execution_count": 18,
   "metadata": {},
   "outputs": [],
   "source": [
    "# define global variables\n",
    "global Class\n",
    "Class = df2.columns[-1]"
   ]
  },
  {
   "cell_type": "code",
   "execution_count": 19,
   "metadata": {},
   "outputs": [
    {
     "output_type": "stream",
     "name": "stdout",
     "text": [
      "#-------------AGE-------------#\nOffice_worker\n info = 0.7885, Info Gain = 0.1518\n\nage\n info = 0.6935, Info Gain = 0.2467\n\nincome\n info = 0.9111, Info Gain = 0.0292\n\ncredit\n info = 0.8922, Info Gain = 0.0481\n\n#-------------OFFICE_WORKER-------------#\nOffice_worker\n info = 0.0000, Info Gain = 0.9710\n\nage\n info = 0.9710, Info Gain = 0.0000\n\nincome\n info = 0.4000, Info Gain = 0.5710\n\ncredit\n info = 0.9510, Info Gain = 0.0200\n\n#-------------CREDIT-------------#\nOffice_worker\n info = 0.9510, Info Gain = 0.0200\n\nage\n info = 0.9710, Info Gain = 0.0000\n\nincome\n info = 0.9510, Info Gain = 0.0200\n\ncredit\n info = 0.0000, Info Gain = 0.9710\n\n{'age': {'41~50': 'c1',\n         '<=40': {'Office_worker': {'no': 'c2', 'yes': 'c1'}},\n         '>50': {'credit': {'good': 'c2', 'ok': 'c1'}}}}\n"
     ]
    }
   ],
   "source": [
    "t2 = buildTree(df2, show_stat=True)\n",
    "pprint.pprint(t2)"
   ]
  },
  {
   "cell_type": "code",
   "execution_count": null,
   "metadata": {},
   "outputs": [],
   "source": []
  }
 ]
}