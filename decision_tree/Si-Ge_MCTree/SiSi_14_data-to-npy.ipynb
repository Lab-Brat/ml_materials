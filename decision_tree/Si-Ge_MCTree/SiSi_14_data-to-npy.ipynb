{
 "metadata": {
  "language_info": {
   "codemirror_mode": {
    "name": "ipython",
    "version": 3
   },
   "file_extension": ".py",
   "mimetype": "text/x-python",
   "name": "python",
   "nbconvert_exporter": "python",
   "pygments_lexer": "ipython3",
   "version": "3.6.6-final"
  },
  "orig_nbformat": 2,
  "kernelspec": {
   "name": "python3",
   "display_name": "Python 3.6.6 64-bit",
   "metadata": {
    "interpreter": {
     "hash": "ea1d30b81493ad4e83832c30fd2d1afdd89257e8ee88b0c08169d2ce4111f838"
    }
   }
  }
 },
 "nbformat": 4,
 "nbformat_minor": 2,
 "cells": [
  {
   "cell_type": "code",
   "execution_count": 1,
   "metadata": {},
   "outputs": [],
   "source": [
    "import numpy as np"
   ]
  },
  {
   "cell_type": "code",
   "execution_count": null,
   "metadata": {},
   "outputs": [],
   "source": []
  },
  {
   "cell_type": "code",
   "execution_count": 2,
   "metadata": {},
   "outputs": [],
   "source": [
    "def to_str(L):\n",
    "    SS = \"\"\n",
    "    for l in temp:\n",
    "        if l == 0 or l == 1:\n",
    "            SS += str(l)\n",
    "\n",
    "    return SS"
   ]
  },
  {
   "cell_type": "code",
   "execution_count": null,
   "metadata": {},
   "outputs": [],
   "source": []
  },
  {
   "cell_type": "code",
   "execution_count": 3,
   "metadata": {},
   "outputs": [
    {
     "output_type": "execute_result",
     "data": {
      "text/plain": [
       "(numpy.ndarray,\n",
       " (16384, 15),\n",
       " array([  0.    ,   0.    ,   0.    ,   0.    ,   0.    ,   0.    ,\n",
       "          0.    ,   0.    ,   0.    ,   1.    ,   0.    ,   0.    ,\n",
       "          0.    ,   0.    , -10.3743]))"
      ]
     },
     "metadata": {},
     "execution_count": 3
    }
   ],
   "source": [
    "Si14 =  np.loadtxt('./SiSi_14.data', dtype=float)\n",
    "type(Si14), Si14.shape, Si14[10]"
   ]
  },
  {
   "cell_type": "code",
   "execution_count": 4,
   "metadata": {},
   "outputs": [
    {
     "output_type": "execute_result",
     "data": {
      "text/plain": [
       "16384"
      ]
     },
     "metadata": {},
     "execution_count": 4
    }
   ],
   "source": [
    "DB_14 = {}\n",
    "temp = [] \n",
    "\n",
    "for i in Si14:\n",
    "    for j in range(0, 14):\n",
    "        temp.append(int(i[j]))\n",
    "\n",
    "    DB_14[to_str(temp)] = i[-1]\n",
    "    temp = []\n",
    "\n",
    "len(DB_14)"
   ]
  },
  {
   "cell_type": "code",
   "execution_count": null,
   "metadata": {},
   "outputs": [],
   "source": []
  },
  {
   "cell_type": "code",
   "execution_count": 5,
   "metadata": {},
   "outputs": [
    {
     "output_type": "execute_result",
     "data": {
      "text/plain": [
       "-32.9349"
      ]
     },
     "metadata": {},
     "execution_count": 5
    }
   ],
   "source": [
    "def get_reward(struct):\n",
    "    s = ''.join(str(x) for x in struct)\n",
    "    if s in DB_14.keys():\n",
    "        cond = DB_14[s]\n",
    "    else:\n",
    "        print (\"error\")\n",
    "    \n",
    "    return cond\n",
    "\n",
    "get_reward('00000000000000')"
   ]
  },
  {
   "cell_type": "code",
   "execution_count": 6,
   "metadata": {},
   "outputs": [],
   "source": [
    "np.save(\"DB_14.npy\", DB_14)"
   ]
  },
  {
   "cell_type": "code",
   "execution_count": null,
   "metadata": {},
   "outputs": [],
   "source": []
  },
  {
   "cell_type": "code",
   "execution_count": 7,
   "metadata": {},
   "outputs": [
    {
     "output_type": "stream",
     "name": "stdout",
     "text": [
      "-3.2478\n16384\n"
     ]
    }
   ],
   "source": [
    "DB_14=np.load('./DB_14.npy', allow_pickle=True).item()\n",
    "print(max(DB_14.values()))\n",
    "print(len(DB_14))"
   ]
  },
  {
   "cell_type": "code",
   "execution_count": null,
   "metadata": {},
   "outputs": [],
   "source": []
  }
 ]
}